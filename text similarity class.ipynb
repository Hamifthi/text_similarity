{
 "cells": [
  {
   "cell_type": "code",
   "execution_count": 1,
   "metadata": {},
   "outputs": [],
   "source": [
    "import tensorflow as tf\n",
    "import tensorflow_hub as hub\n",
    "import matplotlib.pyplot as plt\n",
    "import numpy as np\n",
    "import os\n",
    "import pandas as pd\n",
    "import seaborn as sns\n",
    "import requests\n",
    "import re\n",
    "from bs4 import BeautifulSoup"
   ]
  },
  {
   "cell_type": "code",
   "execution_count": null,
   "metadata": {},
   "outputs": [],
   "source": [
    "class pipeline():\n",
    "    def __init__(self, medium_content_url, module_url):\n",
    "        self.medium_content_url = medium_content_url\n",
    "        self.module_url = module_url\n",
    "        self.text = prepare_text_from_html(self.medium_content_url)\n",
    "        self.embed = loading_module(self.module_url)\n",
    "        self.text_embedded = run_embedding(self.embed, self.text)\n",
    "    \n",
    "    def ask_question_from_text(self, question):\n",
    "        self.question = list(question)\n",
    "        self.question_embedded = run_embedding(self.embed, self.question)\n",
    "        return self.question_embedded"
   ]
  }
 ],
 "metadata": {
  "kernelspec": {
   "display_name": "Python 3",
   "language": "python",
   "name": "python3"
  },
  "language_info": {
   "codemirror_mode": {
    "name": "ipython",
    "version": 3
   },
   "file_extension": ".py",
   "mimetype": "text/x-python",
   "name": "python",
   "nbconvert_exporter": "python",
   "pygments_lexer": "ipython3",
   "version": "3.6.3"
  }
 },
 "nbformat": 4,
 "nbformat_minor": 2
}
