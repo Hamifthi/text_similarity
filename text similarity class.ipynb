{
 "cells": [
  {
   "cell_type": "code",
   "execution_count": 1,
   "metadata": {},
   "outputs": [],
   "source": [
    "import tensorflow as tf\n",
    "import tensorflow_hub as hub\n",
    "import matplotlib.pyplot as plt\n",
    "import numpy as np\n",
    "import os\n",
    "import pandas as pd\n",
    "import seaborn as sns\n",
    "import requests\n",
    "import re\n",
    "from bs4 import BeautifulSoup"
   ]
  },
  {
   "cell_type": "code",
   "execution_count": 14,
   "metadata": {},
   "outputs": [],
   "source": [
    "class pipeline():\n",
    "    def __init__(self, medium_content_url, module_url):\n",
    "        assert type(medium_content_url) == str\n",
    "        assert type(module_url) == str\n",
    "        self.medium_content_url = medium_content_url\n",
    "        self.module_url = module_url\n",
    "        self.prepare_text_from_html(self.medium_content_url)\n",
    "        self.loading_module(self.module_url)\n",
    "        self.text_embedded = self.run_embedding(self.embed, self.text)\n",
    "    \n",
    "    def ask_question_from_text(self, question):\n",
    "        self.question = list(question)\n",
    "        self.question_embedded = self.run_embedding(self.embed, self.question)\n",
    "    \n",
    "    # function for downloading content from the web\n",
    "    def content_downloader(self, url):\n",
    "        request = requests.get(url)\n",
    "        soup = BeautifulSoup(request.content, \"lxml\") \n",
    "        self.html = str(soup.find(\"div\", {\"class\": \"postArticle-content js-postField js-notesSource js-trackedPost\"}))\n",
    "    \n",
    "    # cleaning the content and return sentences it's not compelete and need to be modified\n",
    "    def cleaning_text(self, html_part):\n",
    "        text = re.sub('<[A-Za-z\\/][^>]*>', ' ', str(html_part))\n",
    "        text = re.split(r'\\s{2,}', text)[1:-1]\n",
    "        text = [sentence.replace('\\xa0', ' ') for sentence in text]\n",
    "        text = [sentence.replace('\\u200a—\\u200a', ' ') for sentence in text]\n",
    "        return text\n",
    "    \n",
    "    # preparing a text for execute caculations on it\n",
    "    def prepare_text_from_html(self, url):\n",
    "        self.content_downloader(url)\n",
    "        self.text = self.cleaning_text(self.html)\n",
    "    \n",
    "    # function for loading diffrenet module\n",
    "    def loading_module(self, module_url):\n",
    "        # Import the Universal Sentence Encoder's TF Hub module\n",
    "        embed_object = hub.Module(module_url)\n",
    "        self.embed_object = embed_object\n",
    "        \n",
    "    # function for runinng embedding module on text\n",
    "    def run_embedding(embed_object, text):\n",
    "        # Reduce logging output.\n",
    "        tf.logging.set_verbosity(tf.logging.ERROR)\n",
    "\n",
    "        with tf.Session() as session:\n",
    "            session.run([tf.global_variables_initializer(), tf.tables_initializer()])\n",
    "            message_embeddings = session.run(embed_object(text))\n",
    "\n",
    "        return message_embeddings"
   ]
  }
 ],
 "metadata": {
  "kernelspec": {
   "display_name": "Python 3",
   "language": "python",
   "name": "python3"
  },
  "language_info": {
   "codemirror_mode": {
    "name": "ipython",
    "version": 3
   },
   "file_extension": ".py",
   "mimetype": "text/x-python",
   "name": "python",
   "nbconvert_exporter": "python",
   "pygments_lexer": "ipython3",
   "version": "3.6.3"
  }
 },
 "nbformat": 4,
 "nbformat_minor": 2
}
