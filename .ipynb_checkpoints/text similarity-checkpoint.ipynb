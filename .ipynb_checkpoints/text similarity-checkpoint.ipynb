{
 "cells": [
  {
   "cell_type": "code",
   "execution_count": 35,
   "metadata": {},
   "outputs": [],
   "source": [
    "import tensorflow as tf\n",
    "import tensorflow_hub as hub\n",
    "import matplotlib.pyplot as plt\n",
    "import numpy as np\n",
    "import os\n",
    "import pandas as pd\n",
    "import seaborn as sns\n",
    "import spacy\n",
    "import requests\n",
    "import re\n",
    "from bs4 import BeautifulSoup"
   ]
  },
  {
   "cell_type": "code",
   "execution_count": 71,
   "metadata": {},
   "outputs": [],
   "source": [
    "# function for downloading content from the web\n",
    "def content_downloader(url):\n",
    "    request = requests.get(url)\n",
    "    soup = BeautifulSoup(request.content, \"lxml\") \n",
    "    return str(soup.find(\"div\", {\"class\": \"postArticle-content js-postField js-notesSource js-trackedPost\"}))"
   ]
  },
  {
   "cell_type": "code",
   "execution_count": 102,
   "metadata": {},
   "outputs": [],
   "source": [
    "# cleaning the content and return sentences it's not compelete and need to be modified\n",
    "def cleaning_text(html_part):\n",
    "    text = re.sub('<[A-Za-z\\/][^>]*>', ' ', str(html_part))\n",
    "    text = re.split(r'\\s{2,}', text)[1:-1]\n",
    "    return list_of_sentences"
   ]
  },
  {
   "cell_type": "code",
   "execution_count": 103,
   "metadata": {},
   "outputs": [
    {
     "name": "stdout",
     "output_type": "stream",
     "text": [
      "[['5 Resources to Inspire, Your Next Data Science\\xa0Project', 'Don’t worry\\u200a—\\u200agetting started is the hardest\\xa0part', 'Facebook 2010', 'Getting Started', 'We are exposed to seemingly endless streams of data science career advice, but there is one topic that doesn’t get quite enough love: side projects., Side projects are awesome for', 'plenty of reasons , but I like how', 'Julie Zhuo', 'puts it in the simple venn diagram below:', 'Image Source', 'Side projects serve as a way to apply data science in a less goal-driven environment than you probably experience at work or school., They offer an', 'opportunity to play', 'with data however you want, while learning practical skills at the same time.', 'Aside from being a lot of fun and a great way to learn new skills, side projects also help your chances when applying for jobs., Recruiters and managers', 'love to see projects', 'that show you’re interested in data in a way that goes beyond classes and employment.', 'The Problem', 'Have you ever wanted to start a new project but you can’t decide what to do?, First, you spend a couple hours brainstorming ideas., Then days., Before you know it, weeks have gone by without shipping anything new.', ', This is extremely common for self-driven projects in all fields; data science is no different., It’s easy to have grand ambitions but much more difficult to execute on them., I’ve found the hardest part of a data science project is getting started and deciding which path to go down.', 'In this post, my intention is provide some useful tips and resources to springboard you into your next data science project.',, 'Considerations', ', Before we jump into the resources below, there’s a couple quick things worth noting when thinking about data science projects.', ', Your Goals', 'Data science is an extremely diverse field; this means that it’s virtually impossible to squeeze every concept and tool into one single project., You need to pick and choose which skills you want to focus on developing further., A few relevant examples could include:', 'Machine learning and modeling', 'Exploratory data analysis', 'Metrics and experimentation', 'Data visualization and communication', 'Data mining and cleaning', 'Note that while it’s hard to incorporate every concept, you may be able to tie a few of them together, for example you can scrape data for exploratory data analysis, and then visualize it in an interesting way.', 'Basically, if you want to become a more effective machine learning engineer, chances are that you won’t accomplish that by doing a data viz project., Your project should reflect your goals., That way, even if it doesn’t blow up or uncover any groundbreaking insights, you still walk away with a win and a bunch of applied knowledge to show for it.', 'Your Interests', 'Like we touched on before, side projects should be enjoyable., Whether we realize it or not, we all ask ourselves hundreds of questions a day., Try tuning into these questions for the rest of today a little more than you usually would., You’ll be surprised by what happens., You may see that you’re a bit more creative and interested in certain things that you thought.', 'Now apply this to your next data science project., Are you curious about how to', 'classify your morning runs ?, Want to know', 'how and when Trump tweets', 'the things he does?, Interested in the greatest', 'one-hit wonders in sports', 'history?', 'The possibilities are truly endless., Let your interests, curiosities, and goals drive your next project., Once you’ve checked those boxes, let’s get inspired.', 'Image Source', 'Inspiration', ', It’s easy to think that we’re on our own, but turns out that this is rarely the case., There’s always others out there with similar interests and goals if you look hard enough., This effect can be incredibly powerful for ideation.', , '“Nothing is original., Steal from anywhere that resonates with inspiration or fuels your imagination.”\\u200a—\\u200aJim\\xa0Jarmusch', 'Find projects that you like or admire, and then put your own twist on them., Use them as jumping off points to generate new, original work that stands alone., Some of my favorite resources for inspiration are as follows:', 'Data is Beautiful', 'I could spend hours just browsing this subreddit of data visualizations., You’ll be interested in all of the unique ideas and questions that people think up., There’s also monthly challenge where a dataset is chosen, and users are tasked with visualizing it in the most effective way possible., Sort by best all time for instant gratification.', , 'Kaggle', 'I would be remiss if I didn’t mention the poster child of online data science., There’s a couple ways to use Kaggle effectively for inspiration., First, you can look at the', 'trending datasets', 'and think of interesting ways to leverage the information., If you’re more interested in machine learning and the examples themselves, the', 'kernels feature', 'has gotten better and better over time.',, 'The Pudding', 'It really is true that visual essays are an emerging form of journalism., The Pudding embodies this movement like none other., The team uses original datasets, primary research, and interactivity in order to explore tons of interesting topics.', 'FiveThirtyEight', 'A classic, but still good to this day., I mean come on,', 'Nate Silver', 'is the man., The data-driven blog touches on everything from politics to sports to culture., Not to mention, they just revamped their much improved', 'data export', 'page.', 'Towards Data\\xa0Science', 'Lastly, I’ve got to give a shoutout to the', 'TDS Team', 'for bringing together this community of smart people with a passion for achieving things and helping others grow in data science., Browsing recent stories will bring you more than a few interesting project ideas on any given day.', 'Wrapping Up', 'Side projects have not only helped me out immensely throughout my development, but they’re also generally a lot of fun., Recently, there’s been more and more awesome content coming out on data science portfolios., If interested, I highly recommend checking out the following links:', 'Advice on Building Data Science Portfolios', 'How to Build a Data Science Portfolio', 'How to Build a Compelling Data Science Portfolio &amp; Resume', 'The hardest part of anything is getting started., I hope that the tips and resources above help you on your path to completing and shipping your next data science project., I’ll be on the lookout.', 'Thanks for reading!, If you enjoyed the post, go ahead and show the clap button some love and check out some of my recent side projects below:', 'Deconstructing Metrics on Medium', 'What I learned from analyzing 80+ job rejections with Python', 'Make sure to', 'follow me', 'for similar content and subscribe to my newsletter,', 'Self Driven Data Science', 'below for a weekly rundown of interesting articles and actionable resources for Data Scientists.', 'This article was originally published on', 'conordewey.com', 'Self Driven Data Science - Revue', 'Self Driven Data Science - Weekly rundown of interesting news and insights focused on data science, machine learning… www.getrevue.co']]\n"
     ]
    }
   ],
   "source": [
    "text = contentDownloader('https://towardsdatascience.com/5-resources-to-inspire-your-next-data-science-project-ea6afbe20319')\n",
    "print(cleaning_text(text))"
   ]
  },
  {
   "cell_type": "code",
   "execution_count": 50,
   "metadata": {},
   "outputs": [],
   "source": [
    "# function for loading diffrenet module\n",
    "def loading_module(module_url):\n",
    "    # Import the Universal Sentence Encoder's TF Hub module\n",
    "    embed = hub.Module(module_url)\n",
    "    return embed"
   ]
  },
  {
   "cell_type": "code",
   "execution_count": 9,
   "metadata": {},
   "outputs": [],
   "source": [
    "# function for runinng embedding module on text\n",
    "def run_embedding(embed_object, text):\n",
    "    # Reduce logging output.\n",
    "    tf.logging.set_verbosity(tf.logging.ERROR)\n",
    "\n",
    "    with tf.Session() as session:\n",
    "        session.run([tf.global_variables_initializer(), tf.tables_initializer()])\n",
    "        message_embeddings = session.run(embed_object(text))\n",
    "\n",
    "    return message_embeddings"
   ]
  },
  {
   "cell_type": "code",
   "execution_count": 10,
   "metadata": {},
   "outputs": [],
   "source": [
    "# function for calculating similarity between question and text\n",
    "def calculating_text_similarity(question, text, module_url):\n",
    "    question = cleaning_text(question)\n",
    "    text = cleaning_text(text)\n",
    "    question_tensor = tf.Variable(tf.convert_to_tensor(run_embedding(loading_module(module_url), question)))\n",
    "    text_tensor = tf.Variable(tf.convert_to_tensor(run_embedding(loading_module(module_url), text)))\n",
    "    multiply_tensor = tf.matmul(question_tensor, text_tensor, transpose_b = True)\n",
    "    with tf.Session() as sess:\n",
    "        sess.run(tf.global_variables_initializer())\n",
    "        answer = sess.run(multiply_tensor)\n",
    "    return answer"
   ]
  },
  {
   "cell_type": "code",
   "execution_count": 11,
   "metadata": {},
   "outputs": [],
   "source": [
    "# function for find sentence in text that answer question that has been asked\n",
    "def find_similar_sentence(similarity_tensor, question, text):\n",
    "    text = np.array(text)\n",
    "    question_and_text = np.hstack([question, text]).reshape(-1, 1)\n",
    "    print(question_and_text)\n",
    "    return text[np.argmax(similarity_tensor)]"
   ]
  }
 ],
 "metadata": {
  "kernelspec": {
   "display_name": "Python 3",
   "language": "python",
   "name": "python3"
  }
 },
 "nbformat": 4,
 "nbformat_minor": 2
}
