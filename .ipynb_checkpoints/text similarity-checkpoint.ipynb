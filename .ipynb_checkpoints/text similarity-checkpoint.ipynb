{
 "cells": [
  {
   "cell_type": "code",
   "execution_count": 1,
   "metadata": {},
   "outputs": [],
   "source": [
    "import tensorflow as tf\n",
    "import tensorflow_hub as hub\n",
    "import matplotlib.pyplot as plt\n",
    "import numpy as np\n",
    "import os\n",
    "import pandas as pd\n",
    "import seaborn as sns\n",
    "import requests\n",
    "import re\n",
    "from bs4 import BeautifulSoup"
   ]
  },
  {
   "cell_type": "code",
   "execution_count": 2,
   "metadata": {},
   "outputs": [],
   "source": [
    "# function for downloading content from the web\n",
    "def content_downloader(url):\n",
    "    request = requests.get(url)\n",
    "    soup = BeautifulSoup(request.content, \"lxml\") \n",
    "    return str(soup.find(\"div\", {\"class\": \"postArticle-content js-postField js-notesSource js-trackedPost\"}))"
   ]
  },
  {
   "cell_type": "code",
   "execution_count": 3,
   "metadata": {},
   "outputs": [],
   "source": [
    "# cleaning the content and return sentences it's not compelete and need to be modified\n",
    "def cleaning_text(html_part):\n",
    "    text = re.sub('<[A-Za-z\\/][^>]*>', ' ', str(html_part))\n",
    "    text = re.split(r'\\s{2,}', text)[1:-1]\n",
    "    return text"
   ]
  },
  {
   "cell_type": "code",
   "execution_count": 9,
   "metadata": {},
   "outputs": [],
   "source": [
    "# preparing a text for execute caculations on it\n",
    "def prepare_text_from_html(url):\n",
    "    html_content = content_downloader(url)\n",
    "    text = cleaning_text(html_content)\n",
    "    return text"
   ]
  },
  {
   "cell_type": "code",
   "execution_count": 5,
   "metadata": {},
   "outputs": [],
   "source": [
    "# function for loading diffrenet module\n",
    "def loading_module(module_url):\n",
    "    # Import the Universal Sentence Encoder's TF Hub module\n",
    "    embed_object = hub.Module(module_url)\n",
    "    return embed_object"
   ]
  },
  {
   "cell_type": "code",
   "execution_count": 6,
   "metadata": {},
   "outputs": [],
   "source": [
    "# function for runinng embedding module on text\n",
    "def run_embedding(embed_object, text):\n",
    "    # Reduce logging output.\n",
    "    tf.logging.set_verbosity(tf.logging.ERROR)\n",
    "\n",
    "    with tf.Session() as session:\n",
    "        session.run([tf.global_variables_initializer(), tf.tables_initializer()])\n",
    "        message_embeddings = session.run(embed_object(text))\n",
    "\n",
    "    return message_embeddings"
   ]
  },
  {
   "cell_type": "code",
   "execution_count": 7,
   "metadata": {},
   "outputs": [],
   "source": [
    "# function for calculating similarity between question and text\n",
    "def calculating_text_similarity(question, text, module_url):\n",
    "    question_tensor = tf.Variable(tf.convert_to_tensor(run_embedding(loading_module(module_url), question)))\n",
    "    text_tensor = tf.Variable(tf.convert_to_tensor(run_embedding(loading_module(module_url), text)))\n",
    "    multiply_tensor = tf.matmul(question_tensor, text_tensor, transpose_b = True)\n",
    "    with tf.Session() as sess:\n",
    "        sess.run(tf.global_variables_initializer())\n",
    "        answer = sess.run(multiply_tensor)\n",
    "    return answer"
   ]
  },
  {
   "cell_type": "code",
   "execution_count": 8,
   "metadata": {},
   "outputs": [],
   "source": [
    "# function for find sentence in text that answer question that has been asked\n",
    "def find_similar_sentence(similarity_tensor, question, text):\n",
    "    text = np.array(text)\n",
    "    question_and_text = np.hstack([question, text]).reshape(-1, 1)\n",
    "    print(question_and_text)\n",
    "    return text[np.where(similarity_tensor > 0.4)[0]]"
   ]
  },
  {
   "cell_type": "code",
   "execution_count": null,
   "metadata": {},
   "outputs": [],
   "source": [
    "text = prepare_text_from_html('https://towardsdatascience.com/5-resources-to-inspire-your-next-data-science-project-ea6afbe20319')"
   ]
  },
  {
   "cell_type": "code",
   "execution_count": null,
   "metadata": {},
   "outputs": [],
   "source": [
    "print(run_embedding(loading_module('https://tfhub.dev/google/universal-sentence-encoder/2'), [text[0]]))"
   ]
  },
  {
   "cell_type": "code",
   "execution_count": null,
   "metadata": {},
   "outputs": [],
   "source": [
    "# def calculate_different_model_accuracy(question, text, module_url1, module_url2):"
   ]
  }
 ],
 "metadata": {
  "kernelspec": {
   "display_name": "Python 3",
   "language": "python",
   "name": "python3"
  },
  "language_info": {
   "codemirror_mode": {
    "name": "ipython",
    "version": 3
   },
   "file_extension": ".py",
   "mimetype": "text/x-python",
   "name": "python",
   "nbconvert_exporter": "python",
   "pygments_lexer": "ipython3",
   "version": "3.6.3"
  }
 },
 "nbformat": 4,
 "nbformat_minor": 2
}
