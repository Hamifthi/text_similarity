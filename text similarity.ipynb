{
 "cells": [
  {
   "cell_type": "code",
   "execution_count": 1,
   "metadata": {},
   "outputs": [],
   "source": [
    "import tensorflow as tf\n",
    "import tensorflow_hub as hub\n",
    "import matplotlib.pyplot as plt\n",
    "import numpy as np\n",
    "import os\n",
    "import pandas as pd\n",
    "import seaborn as sns\n",
    "import requests\n",
    "import re\n",
    "from bs4 import BeautifulSoup"
   ]
  },
  {
   "cell_type": "code",
   "execution_count": 10,
   "metadata": {},
   "outputs": [],
   "source": [
    "def print_phase(phase):\n",
    "    print(phase)\n",
    "    print('=*=*=*=*=*=*=*=*=*=*=*=*=*=*=*=*=*=*=*=*=*=*=*=*=*=*=*=*=*=*=*=*=*=*=*=*=*=*=*=*=*=*=*=*=*=*=*=*=*=*=*=*=*=*=*=')"
   ]
  },
  {
   "cell_type": "code",
   "execution_count": 2,
   "metadata": {},
   "outputs": [],
   "source": [
    "# function for downloading content from the web\n",
    "def content_downloader(url):\n",
    "    request = requests.get(url)\n",
    "    soup = BeautifulSoup(request.content) \n",
    "    return str(soup.find(\"div\", {\"class\": \"postArticle-content js-postField js-notesSource js-trackedPost\"}))"
   ]
  },
  {
   "cell_type": "code",
   "execution_count": 3,
   "metadata": {},
   "outputs": [],
   "source": [
    "# cleaning the content and return sentences it's not compelete and need to be modified\n",
    "def cleaning_text(html_part):\n",
    "    text = re.sub('<[A-Za-z\\/][^>]*>', ' ', str(html_part))\n",
    "    text = re.split(r'\\s{2,}', text)[1:-1]\n",
    "    text = [sentence.replace('\\xa0', ' ') for sentence in text]\n",
    "    text = [sentence.replace('\\u200a—\\u200a', ' ') for sentence in text]\n",
    "    return text"
   ]
  },
  {
   "cell_type": "code",
   "execution_count": 4,
   "metadata": {},
   "outputs": [],
   "source": [
    "# preparing a text for execute caculations on it\n",
    "def prepare_text_from_html(url):\n",
    "    html_content = content_downloader(url)\n",
    "    text = cleaning_text(html_content)\n",
    "    return text"
   ]
  },
  {
   "cell_type": "code",
   "execution_count": 5,
   "metadata": {},
   "outputs": [],
   "source": [
    "# function for loading diffrenet module\n",
    "def loading_module(module_url):\n",
    "    # Import the Universal Sentence Encoder's TF Hub module\n",
    "    embed_object = hub.Module(module_url)\n",
    "    return embed_object"
   ]
  },
  {
   "cell_type": "code",
   "execution_count": 6,
   "metadata": {},
   "outputs": [],
   "source": [
    "# function for runinng embedding module on text\n",
    "def run_embedding(embed_object, text):\n",
    "    # Reduce logging output.\n",
    "    tf.logging.set_verbosity(tf.logging.ERROR)\n",
    "\n",
    "    with tf.Session() as session:\n",
    "        session.run([tf.global_variables_initializer(), tf.tables_initializer()])\n",
    "        message_embeddings = session.run(embed_object(text))\n",
    "\n",
    "    return message_embeddings"
   ]
  },
  {
   "cell_type": "code",
   "execution_count": 7,
   "metadata": {},
   "outputs": [],
   "source": [
    "# function for calculating similarity between question and text\n",
    "def calculating_similarity_tensor(module_url, question, text):\n",
    "    question_tensor = tf.Variable(tf.convert_to_tensor(run_embedding(loading_module(module_url), question)))\n",
    "    text_tensor = tf.Variable(tf.convert_to_tensor(run_embedding(loading_module(module_url), text)))\n",
    "    multiply_tensor = tf.matmul(question_tensor, text_tensor, transpose_b = True)\n",
    "    with tf.Session() as sess:\n",
    "        sess.run(tf.global_variables_initializer())\n",
    "        answer = sess.run(multiply_tensor)\n",
    "    return answer"
   ]
  },
  {
   "cell_type": "code",
   "execution_count": 8,
   "metadata": {},
   "outputs": [],
   "source": [
    "# function for find sentence in text that answer question that has been asked\n",
    "def find_the_most_similar_sentence(similarity_tensor, question, text):\n",
    "    print('similarity score for the most similar sentence is {}'.format(np.max(similarity_tensor)))\n",
    "    return np.hstack([question, text[np.argmax(similarity_tensor)]]).reshape(-1, 1)"
   ]
  },
  {
   "cell_type": "code",
   "execution_count": 13,
   "metadata": {},
   "outputs": [],
   "source": [
    "text = prepare_text_from_html('https://towardsdatascience.com/5-resources-to-inspire-your-next-data-science-project-ea6afbe20319')\n",
    "question = ['5 Resources to Inspire Your Next Data Science']"
   ]
  },
  {
   "cell_type": "code",
   "execution_count": 29,
   "metadata": {},
   "outputs": [],
   "source": [
    "# function for calculating jaccard similarity between two sentences\n",
    "def get_Jaccard_similarity(question, sentence):\n",
    "    if type(question) != str:\n",
    "        question = question[0]\n",
    "    if type(sentence) != str:\n",
    "        sentence = sentence[0]\n",
    "    question_splitted = set(question.split())\n",
    "    sentence_splitted = set(sentence.split())\n",
    "    intersection_question_sentence = question_splitted.intersection(sentence_splitted)\n",
    "    return round(len(intersection_question_sentence) / (len(question_splitted) + len(sentence_splitted) - len(intersection_question_sentence)), 3)"
   ]
  },
  {
   "cell_type": "code",
   "execution_count": 9,
   "metadata": {},
   "outputs": [],
   "source": [
    "# function for printing information about similarity tensor and printing a stack of similar sentences from text to question\n",
    "def information_about_similar_sentences(similarity_tensor, question, text, threshold = 0.7, print_sorted = False):\n",
    "    sorted_similarity_array = np.array([list(row) for row in sorted(zip(similarity_tensor[0], text), reverse = True)])\n",
    "    if print_sorted:\n",
    "        print(pd.DataFrame(sorted_similarity_array[1]))\n",
    "#     sorted_similarity_text = np.split(sorted_similarity_array, 2, axis = 1)[1]\n",
    "    sorted_similarity_tensor = np.split(sorted_similarity_array, 2, axis = 1)[0].flatten().astype('float')\n",
    "    sentences = np.array([sorted_similarity_array[i] for i in np.where(sorted_similarity_tensor > threshold)[0]])\n",
    "    sentences = np.insert(sentences, 0, values = np.array([None, question[0]]).reshape(1, 2), axis=0)\n",
    "    presentation_dataframe = pd.DataFrame(sentences, columns = ['similarity score', 'sentence'])\n",
    "    presentation_dataframe = presentation_dataframe[['sentence', 'similarity score']]\n",
    "    return presentation_dataframe"
   ]
  },
  {
   "cell_type": "code",
   "execution_count": null,
   "metadata": {},
   "outputs": [],
   "source": [
    "# function for returning filtering dissimilar sentences to question\n",
    "def find_Jaccard_similarity(question, presentation_dataframe, threshold = 0.2):\n",
    "    sentences = presentation_dataframe.values[1:, 0]\n",
    "    jaccard_similarity_score = np.array([get_Jaccard_similarity(question, sentence) for sentence in sentences])\n",
    "    conditional_array = [sentences[i] for i in np.where(jaccard_similarity_score > threshold)[0]]\n",
    "    return conditional_array"
   ]
  },
  {
   "cell_type": "code",
   "execution_count": null,
   "metadata": {},
   "outputs": [],
   "source": [
    "# function for ploting results\n",
    "def plot_similarity(module_url, presentation_dataframe, rotation):\n",
    "    sentences = presentation_dataframe.values[:, 0]\n",
    "    scores = calculating_similarity_tensor(module_url, sentences, sentences)\n",
    "    sns.set(font_scale = 1.2)\n",
    "    g = sns.heatmap(\n",
    "            scores,\n",
    "            xticklabels = sentences,\n",
    "            yticklabels = sentences,\n",
    "            vmin = 0,\n",
    "            vmax = 1,\n",
    "            cmap = \"YlOrRd\")\n",
    "    g.set_xticklabels(sentences, rotation=rotation)\n",
    "    g.set_title(\"Semantic Textual Similarity\")"
   ]
  },
  {
   "cell_type": "code",
   "execution_count": 11,
   "metadata": {},
   "outputs": [],
   "source": [
    "# function for comparing two different modules from tensorflow hub on same question and text\n",
    "def calculate_different_model_accuracy(module_url_1, module_url_2, question, text):\n",
    "    similarity_tensor_1 = calculating_similarity_tensor(module_url_1, question, text)\n",
    "    similarity_tensor_2 = calculating_similarity_tensor(module_url_2, question, text)\n",
    "    similar_sentence_1 = find_similar_sentence(similarity_tensor_1, question, text)\n",
    "    print_phase(similar_sentence_1)\n",
    "    similar_sentence_2 = find_similar_sentence(similarity_tensor_2, question, text)\n",
    "    print_phase(similar_sentence_2)\n",
    "    information_1 = information_about_similar_sentences(similarity_tensor_1, question, text, threshold = 0.8)\n",
    "    print_phase(information_1)\n",
    "    information_2 = information_about_similar_sentences(similarity_tensor_2, question, text, threshold = 0.8)\n",
    "    print_phase(information_2)"
   ]
  },
  {
   "cell_type": "code",
   "execution_count": 92,
   "metadata": {},
   "outputs": [],
   "source": [
    "# function for prepare data for input functions for tensorflow DNN classifier\n",
    "def prepare_dataset_for_finetuning(text, question, list_of_classes):\n",
    "    x_train = text\n",
    "    y = np.arange(len(x_train))\n",
    "    x_train = pd.DataFrame(x_train,\n",
    "        index = pd.RangeIndex(1, len(x_train) + 1),\n",
    "        columns = ['sentences'])\n",
    "    x_train['class'] = pd.Series(y, index = x_train.index)\n",
    "    x_test = pd.DataFrame(question,\n",
    "        index = pd.RangeIndex(1, len(question) + 1),\n",
    "        columns = ['sentences'])\n",
    "    x_test['class'] = pd.Series(list_of_classes, index = x_test.index)\n",
    "    return x_train, x_test"
   ]
  },
  {
   "cell_type": "code",
   "execution_count": null,
   "metadata": {},
   "outputs": [],
   "source": [
    "# Load all files from a directory in a DataFrame.\n",
    "def load_directory_data(directory):\n",
    "    data = {}\n",
    "    data[\"sentence\"] = []\n",
    "    data[\"sentiment\"] = []\n",
    "    for file_path in os.listdir(directory):\n",
    "      with tf.gfile.GFile(os.path.join(directory, file_path), \"r\") as f:\n",
    "        data[\"sentence\"].append(f.read())\n",
    "        data[\"sentiment\"].append(re.match(\"\\d+_(\\d+)\\.txt\", file_path).group(1))\n",
    "    return pd.DataFrame.from_dict(data)\n",
    "\n",
    "# Merge positive and negative examples, add a polarity column and shuffle.\n",
    "def load_dataset(directory):\n",
    "    pos_df = load_directory_data(os.path.join(directory, \"pos\"))\n",
    "    neg_df = load_directory_data(os.path.join(directory, \"neg\"))\n",
    "    pos_df[\"polarity\"] = 1\n",
    "    neg_df[\"polarity\"] = 0\n",
    "    return pd.concat([pos_df, neg_df]).sample(frac=1).reset_index(drop=True)\n",
    "\n",
    "# Download and process the dataset files.\n",
    "def download_and_load_datasets(force_download=False):\n",
    "    dataset = tf.keras.utils.get_file(\n",
    "        fname=\"aclImdb.tar.gz\", \n",
    "        origin=\"http://ai.stanford.edu/~amaas/data/sentiment/aclImdb_v1.tar.gz\", \n",
    "        extract=True)\n",
    "\n",
    "    train_df = load_dataset(os.path.join(os.path.dirname(dataset), \n",
    "                             \"aclImdb\", \"train\"))\n",
    "    test_df = load_dataset(os.path.join(os.path.dirname(dataset), \n",
    "                            \"aclImdb\", \"test\"))\n",
    "\n",
    "    return train_df, test_df\n",
    "\n",
    "# Reduce logging output.\n",
    "tf.logging.set_verbosity(tf.logging.ERROR)\n",
    "\n",
    "train_df, test_df = download_and_load_datasets()\n",
    "train_df.head()"
   ]
  },
  {
   "cell_type": "code",
   "execution_count": 93,
   "metadata": {},
   "outputs": [],
   "source": [
    "# function for prepare functions for tensorflow DNN classifier\n",
    "def prepare_input_function(data_train, data_test):\n",
    "    train_input_function = tf.estimator.inputs.pandas_input_fn(train_df, train_df[\"polarity\"], num_epochs=None, shuffle=True)\n",
    "    predict_train_input_function = tf.estimator.inputs.pandas_input_fn(train_df, train_df[\"polarity\"], shuffle=False)\n",
    "    predict_test_input_function = tf.estimator.inputs.pandas_input_fn(test_df, test_df[\"polarity\"], shuffle=False)\n",
    "    return train_input_function, predict_train_input_function, predict_test_input_function"
   ]
  },
  {
   "cell_type": "code",
   "execution_count": 94,
   "metadata": {},
   "outputs": [],
   "source": [
    "# function for training a DNN classifier base on tensorflow hub text modules\n",
    "def train_and_evaluate_with_module(hub_module, train_df, test_df, learning_rate = 0.003, steps = 1000, trainable = False):\n",
    "    input_functions = prepare_input_function(train_df, test_df)\n",
    "    train_input_function = input_functions[0]\n",
    "    predict_train_input_function = input_functions[1]\n",
    "    predict_test_input_function = input_functions[2]\n",
    "    \n",
    "    embedded_text_feature_column = hub.text_embedding_column(key = 'sentence', module_spec = hub_module, trainable = trainable)\n",
    "    \n",
    "    estimator = tf.estimator.DNNClassifier(\n",
    "        hidden_units = [500, 100],\n",
    "        feature_columns = [embedded_text_feature_column],\n",
    "        n_classes = 2,\n",
    "        optimizer = tf.train.AdagradOptimizer(learning_rate = learning_rate))\n",
    "    \n",
    "    estimator.train(input_fn = train_input_function, steps = steps)\n",
    "    \n",
    "    train_eval_result = estimator.evaluate(input_fn = predict_train_input_function)\n",
    "    test_eval_result = estimator.evaluate(input_fn = predict_test_input_function)\n",
    "    \n",
    "    training_set_accuracy = train_eval_result['accuracy']\n",
    "    test_set_accuracy = test_eval_result['accuracy']\n",
    "    \n",
    "    return {\n",
    "      \"Training accuracy\": training_set_accuracy,\n",
    "      \"Test accuracy\": test_set_accuracy\n",
    "  }"
   ]
  },
  {
   "cell_type": "code",
   "execution_count": 96,
   "metadata": {},
   "outputs": [],
   "source": [
    "# function for comparing different state of module\n",
    "def comparing_module_with_trainable_option(hub_module, train_df, test_df, learning_rate, steps):\n",
    "    trainable_off = train_and_evaluate_with_module(hub_module, train_df, test_df, learning_rate = learning_rate, steps = steps, trainable = False)\n",
    "    trainable_on = train_and_evaluate_with_module(hub_module, train_df, test_df, learning_rate = learning_rate, steps = steps, trainable = True)\n",
    "    return {\n",
    "        'train_off': trainable_off,\n",
    "        'train_on': trainable_on\n",
    "    }"
   ]
  },
  {
   "cell_type": "code",
   "execution_count": null,
   "metadata": {},
   "outputs": [],
   "source": [
    "results = comparing_module_with_trainable_option(hub_module, text, question, learning_rate = 0.003, steps = 1000)"
   ]
  }
 ],
 "metadata": {
  "kernelspec": {
   "display_name": "Python 3",
   "language": "python",
   "name": "python3"
  },
  "language_info": {
   "codemirror_mode": {
    "name": "ipython",
    "version": 3
   },
   "file_extension": ".py",
   "mimetype": "text/x-python",
   "name": "python",
   "nbconvert_exporter": "python",
   "pygments_lexer": "ipython3",
   "version": "3.6.3"
  }
 },
 "nbformat": 4,
 "nbformat_minor": 2
}
